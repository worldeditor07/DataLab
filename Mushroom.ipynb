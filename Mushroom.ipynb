{
 "cells": [
  {
   "cell_type": "code",
   "execution_count": 6,
   "metadata": {
    "collapsed": true
   },
   "outputs": [],
   "source": [
    "from pyspark.sql.types import *\n",
    "from pyspark.ml.feature import VectorAssembler, StringIndexer, OneHotEncoder\n",
    "from pyspark.ml.classification import RandomForestClassifier\n",
    "from pyspark.ml.evaluation import MulticlassClassificationEvaluator"
   ]
  },
  {
   "cell_type": "code",
   "execution_count": 3,
   "metadata": {
    "collapsed": false
   },
   "outputs": [],
   "source": [
    "df_sp = spark.read.csv('mushrooms.csv', header = True)"
   ]
  },
  {
   "cell_type": "code",
   "execution_count": 4,
   "metadata": {
    "collapsed": false
   },
   "outputs": [
    {
     "data": {
      "text/plain": [
       "Row(class=u'p', cap-shape=u'x', cap-surface=u's', cap-color=u'n', bruises=u't', odor=u'p', gill-attachment=u'f', gill-spacing=u'c', gill-size=u'n', gill-color=u'k', stalk-shape=u'e', stalk-root=u'e', stalk-surface-above-ring=u's', stalk-surface-below-ring=u's', stalk-color-above-ring=u'w', stalk-color-below-ring=u'w', veil-type=u'p', veil-color=u'w', ring-number=u'o', ring-type=u'p', spore-print-color=u'k', population=u's', habitat=u'u')"
      ]
     },
     "execution_count": 4,
     "metadata": {},
     "output_type": "execute_result"
    }
   ],
   "source": [
    "df_sp.head()"
   ]
  },
  {
   "cell_type": "code",
   "execution_count": 5,
   "metadata": {
    "collapsed": false,
    "scrolled": true
   },
   "outputs": [
    {
     "data": {
      "text/plain": [
       "['class',\n",
       " 'cap-shape',\n",
       " 'cap-surface',\n",
       " 'cap-color',\n",
       " 'bruises',\n",
       " 'odor',\n",
       " 'gill-attachment',\n",
       " 'gill-spacing',\n",
       " 'gill-size',\n",
       " 'gill-color',\n",
       " 'stalk-shape',\n",
       " 'stalk-root',\n",
       " 'stalk-surface-above-ring',\n",
       " 'stalk-surface-below-ring',\n",
       " 'stalk-color-above-ring',\n",
       " 'stalk-color-below-ring',\n",
       " 'veil-type',\n",
       " 'veil-color',\n",
       " 'ring-number',\n",
       " 'ring-type',\n",
       " 'spore-print-color',\n",
       " 'population',\n",
       " 'habitat']"
      ]
     },
     "execution_count": 5,
     "metadata": {},
     "output_type": "execute_result"
    }
   ],
   "source": [
    "df_sp.columns # string type, has to transform to numeric"
   ]
  },
  {
   "cell_type": "code",
   "execution_count": 32,
   "metadata": {
    "collapsed": false
   },
   "outputs": [
    {
     "name": "stdout",
     "output_type": "stream",
     "text": [
      "+-----+-----+\n",
      "|class|count|\n",
      "+-----+-----+\n",
      "|    e| 4208|\n",
      "|    p| 3916|\n",
      "+-----+-----+\n",
      "\n"
     ]
    }
   ],
   "source": [
    "num_class = df_sp.select('class').groupBy('class').count()\n",
    "num_class.show()"
   ]
  },
  {
   "cell_type": "code",
   "execution_count": 8,
   "metadata": {
    "collapsed": false,
    "scrolled": true
   },
   "outputs": [
    {
     "name": "stdout",
     "output_type": "stream",
     "text": [
      "+-----+-----+\n",
      "|class|label|\n",
      "+-----+-----+\n",
      "|    p|  1.0|\n",
      "|    e|  0.0|\n",
      "|    e|  0.0|\n",
      "+-----+-----+\n",
      "only showing top 3 rows\n",
      "\n"
     ]
    }
   ],
   "source": [
    "stringIndexer = StringIndexer(inputCol='class', outputCol='label')\n",
    "df_sp = stringIndexer.fit(df_sp).transform(df_sp)\n",
    "df_sp.select('class', 'label').show(3)"
   ]
  },
  {
   "cell_type": "code",
   "execution_count": 33,
   "metadata": {
    "collapsed": false
   },
   "outputs": [
    {
     "name": "stdout",
     "output_type": "stream",
     "text": [
      "+-----+-----+\n",
      "|class|label|\n",
      "+-----+-----+\n",
      "|    p|  1.0|\n",
      "|    e|  0.0|\n",
      "|    e|  0.0|\n",
      "|    p|  1.0|\n",
      "|    e|  0.0|\n",
      "|    e|  0.0|\n",
      "|    e|  0.0|\n",
      "|    e|  0.0|\n",
      "|    p|  1.0|\n",
      "|    e|  0.0|\n",
      "+-----+-----+\n",
      "only showing top 10 rows\n",
      "\n"
     ]
    }
   ],
   "source": [
    "df_sp.select('class', 'label').show(10)"
   ]
  },
  {
   "cell_type": "code",
   "execution_count": 9,
   "metadata": {
    "collapsed": true
   },
   "outputs": [],
   "source": [
    "stringIndexer = StringIndexer(inputCol='cap-shape', outputCol='indexed_cap-shape')\n",
    "df_sp = stringIndexer.fit(df_sp).transform(df_sp)"
   ]
  },
  {
   "cell_type": "code",
   "execution_count": 11,
   "metadata": {
    "collapsed": false
   },
   "outputs": [
    {
     "name": "stdout",
     "output_type": "stream",
     "text": [
      "+---------+-----------------+-----------------+\n",
      "|cap-shape|indexed_cap-shape|feature_cap-shape|\n",
      "+---------+-----------------+-----------------+\n",
      "|        x|              0.0|    (5,[0],[1.0])|\n",
      "|        x|              0.0|    (5,[0],[1.0])|\n",
      "|        b|              3.0|    (5,[3],[1.0])|\n",
      "+---------+-----------------+-----------------+\n",
      "only showing top 3 rows\n",
      "\n"
     ]
    }
   ],
   "source": [
    "encoder = OneHotEncoder(inputCol = 'indexed_cap-shape', outputCol='feature_cap-shape')\n",
    "df_sp = encoder.transform(df_sp)\n",
    "\n",
    "df_sp.select('cap-shape', 'indexed_cap-shape', 'feature_cap-shape').show(3)"
   ]
  },
  {
   "cell_type": "code",
   "execution_count": 89,
   "metadata": {
    "collapsed": false
   },
   "outputs": [
    {
     "name": "stdout",
     "output_type": "stream",
     "text": [
      "+---------+-----------------+-----------------+\n",
      "|cap-shape|indexed_cap-shape|feature_cap-shape|\n",
      "+---------+-----------------+-----------------+\n",
      "|        x|              0.0|    (5,[0],[1.0])|\n",
      "|        x|              0.0|    (5,[0],[1.0])|\n",
      "|        b|              3.0|    (5,[3],[1.0])|\n",
      "|        x|              0.0|    (5,[0],[1.0])|\n",
      "|        x|              0.0|    (5,[0],[1.0])|\n",
      "+---------+-----------------+-----------------+\n",
      "only showing top 5 rows\n",
      "\n"
     ]
    }
   ],
   "source": [
    "df_sp.select('cap-shape', 'indexed_cap-shape', 'feature_cap-shape').show(5)"
   ]
  },
  {
   "cell_type": "code",
   "execution_count": 93,
   "metadata": {
    "collapsed": false
   },
   "outputs": [
    {
     "name": "stdout",
     "output_type": "stream",
     "text": [
      "+---------+\n",
      "|cap-shape|\n",
      "+---------+\n",
      "|        x|\n",
      "|        f|\n",
      "|        k|\n",
      "|        c|\n",
      "|        b|\n",
      "|        s|\n",
      "+---------+\n",
      "\n"
     ]
    }
   ],
   "source": [
    "df_sp.select('cap-shape').distinct().show()"
   ]
  },
  {
   "cell_type": "code",
   "execution_count": 15,
   "metadata": {
    "collapsed": false
   },
   "outputs": [
    {
     "name": "stdout",
     "output_type": "stream",
     "text": [
      "cap-surface 4\n",
      "cap-color 10\n",
      "bruises 2\n",
      "odor 9\n",
      "gill-attachment 2\n",
      "gill-spacing 2\n",
      "gill-size 2\n",
      "gill-color 12\n",
      "stalk-shape 2\n",
      "stalk-root 5\n",
      "stalk-surface-above-ring 4\n",
      "stalk-surface-below-ring 4\n",
      "stalk-color-above-ring 9\n",
      "stalk-color-below-ring 9\n",
      "veil-type 1\n",
      "veil-color 4\n",
      "ring-number 3\n",
      "ring-type 5\n",
      "spore-print-color 9\n",
      "population 6\n",
      "habitat 7\n"
     ]
    }
   ],
   "source": [
    "for header in df_sp.columns[2:-3]:\n",
    "    print header, df_sp.select(header).distinct().count() # number of distinct values\n",
    "    if df_sp.select(header).distinct().count() < 2: continue\n",
    "        \n",
    "    indexed_header_name = 'indexed_' + header\n",
    "    stringIndexer = StringIndexer(inputCol=header, outputCol=indexed_header_name)\n",
    "    df_sp = stringIndexer.fit(df_sp).transform(df_sp)\n",
    "    \n",
    "    encoder = OneHotEncoder(inputCol=indexed_header_name, outputCol='feature_'+header)\n",
    "    df_sp = encoder.transform(df_sp)"
   ]
  },
  {
   "cell_type": "code",
   "execution_count": 16,
   "metadata": {
    "collapsed": false
   },
   "outputs": [
    {
     "data": {
      "text/plain": [
       "['class',\n",
       " 'cap-shape',\n",
       " 'cap-surface',\n",
       " 'cap-color',\n",
       " 'bruises',\n",
       " 'odor',\n",
       " 'gill-attachment',\n",
       " 'gill-spacing',\n",
       " 'gill-size',\n",
       " 'gill-color',\n",
       " 'stalk-shape',\n",
       " 'stalk-root',\n",
       " 'stalk-surface-above-ring',\n",
       " 'stalk-surface-below-ring',\n",
       " 'stalk-color-above-ring',\n",
       " 'stalk-color-below-ring',\n",
       " 'veil-type',\n",
       " 'veil-color',\n",
       " 'ring-number',\n",
       " 'ring-type',\n",
       " 'spore-print-color',\n",
       " 'population',\n",
       " 'habitat',\n",
       " 'label',\n",
       " 'indexed_cap-shape',\n",
       " 'feature_cap-shape',\n",
       " 'indexed_cap-surface',\n",
       " 'feature_cap-surface',\n",
       " 'indexed_cap-color',\n",
       " 'feature_cap-color',\n",
       " 'indexed_bruises',\n",
       " 'feature_bruises',\n",
       " 'indexed_odor',\n",
       " 'feature_odor',\n",
       " 'indexed_gill-attachment',\n",
       " 'feature_gill-attachment',\n",
       " 'indexed_gill-spacing',\n",
       " 'feature_gill-spacing',\n",
       " 'indexed_gill-size',\n",
       " 'feature_gill-size',\n",
       " 'indexed_gill-color',\n",
       " 'feature_gill-color',\n",
       " 'indexed_stalk-shape',\n",
       " 'feature_stalk-shape',\n",
       " 'indexed_stalk-root',\n",
       " 'feature_stalk-root',\n",
       " 'indexed_stalk-surface-above-ring',\n",
       " 'feature_stalk-surface-above-ring',\n",
       " 'indexed_stalk-surface-below-ring',\n",
       " 'feature_stalk-surface-below-ring',\n",
       " 'indexed_stalk-color-above-ring',\n",
       " 'feature_stalk-color-above-ring',\n",
       " 'indexed_stalk-color-below-ring',\n",
       " 'feature_stalk-color-below-ring',\n",
       " 'indexed_veil-color',\n",
       " 'feature_veil-color',\n",
       " 'indexed_ring-number',\n",
       " 'feature_ring-number',\n",
       " 'indexed_ring-type',\n",
       " 'feature_ring-type',\n",
       " 'indexed_spore-print-color',\n",
       " 'feature_spore-print-color',\n",
       " 'indexed_population',\n",
       " 'feature_population',\n",
       " 'indexed_habitat',\n",
       " 'feature_habitat']"
      ]
     },
     "execution_count": 16,
     "metadata": {},
     "output_type": "execute_result"
    }
   ],
   "source": [
    "df_sp.columns"
   ]
  },
  {
   "cell_type": "code",
   "execution_count": 18,
   "metadata": {
    "collapsed": false
   },
   "outputs": [],
   "source": [
    "lst_features = [name for name in df_sp.columns if name.startswith('feature_')]\n",
    "vecAssembler = VectorAssembler(inputCols=lst_features, outputCol='features')"
   ]
  },
  {
   "cell_type": "code",
   "execution_count": 19,
   "metadata": {
    "collapsed": true
   },
   "outputs": [],
   "source": [
    "df_sp = vecAssembler.transform(df_sp)"
   ]
  },
  {
   "cell_type": "code",
   "execution_count": 20,
   "metadata": {
    "collapsed": false
   },
   "outputs": [
    {
     "data": {
      "text/plain": [
       "['class',\n",
       " 'cap-shape',\n",
       " 'cap-surface',\n",
       " 'cap-color',\n",
       " 'bruises',\n",
       " 'odor',\n",
       " 'gill-attachment',\n",
       " 'gill-spacing',\n",
       " 'gill-size',\n",
       " 'gill-color',\n",
       " 'stalk-shape',\n",
       " 'stalk-root',\n",
       " 'stalk-surface-above-ring',\n",
       " 'stalk-surface-below-ring',\n",
       " 'stalk-color-above-ring',\n",
       " 'stalk-color-below-ring',\n",
       " 'veil-type',\n",
       " 'veil-color',\n",
       " 'ring-number',\n",
       " 'ring-type',\n",
       " 'spore-print-color',\n",
       " 'population',\n",
       " 'habitat',\n",
       " 'label',\n",
       " 'indexed_cap-shape',\n",
       " 'feature_cap-shape',\n",
       " 'indexed_cap-surface',\n",
       " 'feature_cap-surface',\n",
       " 'indexed_cap-color',\n",
       " 'feature_cap-color',\n",
       " 'indexed_bruises',\n",
       " 'feature_bruises',\n",
       " 'indexed_odor',\n",
       " 'feature_odor',\n",
       " 'indexed_gill-attachment',\n",
       " 'feature_gill-attachment',\n",
       " 'indexed_gill-spacing',\n",
       " 'feature_gill-spacing',\n",
       " 'indexed_gill-size',\n",
       " 'feature_gill-size',\n",
       " 'indexed_gill-color',\n",
       " 'feature_gill-color',\n",
       " 'indexed_stalk-shape',\n",
       " 'feature_stalk-shape',\n",
       " 'indexed_stalk-root',\n",
       " 'feature_stalk-root',\n",
       " 'indexed_stalk-surface-above-ring',\n",
       " 'feature_stalk-surface-above-ring',\n",
       " 'indexed_stalk-surface-below-ring',\n",
       " 'feature_stalk-surface-below-ring',\n",
       " 'indexed_stalk-color-above-ring',\n",
       " 'feature_stalk-color-above-ring',\n",
       " 'indexed_stalk-color-below-ring',\n",
       " 'feature_stalk-color-below-ring',\n",
       " 'indexed_veil-color',\n",
       " 'feature_veil-color',\n",
       " 'indexed_ring-number',\n",
       " 'feature_ring-number',\n",
       " 'indexed_ring-type',\n",
       " 'feature_ring-type',\n",
       " 'indexed_spore-print-color',\n",
       " 'feature_spore-print-color',\n",
       " 'indexed_population',\n",
       " 'feature_population',\n",
       " 'indexed_habitat',\n",
       " 'feature_habitat',\n",
       " 'features']"
      ]
     },
     "execution_count": 20,
     "metadata": {},
     "output_type": "execute_result"
    }
   ],
   "source": [
    "df_sp.columns"
   ]
  },
  {
   "cell_type": "code",
   "execution_count": 22,
   "metadata": {
    "collapsed": false
   },
   "outputs": [],
   "source": [
    "dt = RandomForestClassifier(maxDepth= 5, labelCol='label')\n",
    "df_train, df_test = df_sp.randomSplit([0.8, 0.2])"
   ]
  },
  {
   "cell_type": "code",
   "execution_count": 23,
   "metadata": {
    "collapsed": true
   },
   "outputs": [],
   "source": [
    "model = dt.fit(df_train)"
   ]
  },
  {
   "cell_type": "code",
   "execution_count": 26,
   "metadata": {
    "collapsed": false
   },
   "outputs": [],
   "source": [
    "df_predicted = model.transform(df_test.select('features', 'label'))"
   ]
  },
  {
   "cell_type": "code",
   "execution_count": 35,
   "metadata": {
    "collapsed": false,
    "scrolled": true
   },
   "outputs": [
    {
     "name": "stdout",
     "output_type": "stream",
     "text": [
      "+--------------------+-----+--------------------+--------------------+----------+\n",
      "|            features|label|       rawPrediction|         probability|prediction|\n",
      "+--------------------+-----+--------------------+--------------------+----------+\n",
      "|(95,[3,7,9,17,18,...|  0.0|[19.0964739688749...|[0.95482369844374...|       0.0|\n",
      "|(95,[3,7,9,17,18,...|  0.0|[19.0516374686367...|[0.95258187343183...|       0.0|\n",
      "|(95,[3,7,9,17,18,...|  0.0|[19.0620191596105...|[0.95310095798052...|       0.0|\n",
      "|(95,[3,7,9,17,18,...|  0.0|[19.0620191596105...|[0.95310095798052...|       0.0|\n",
      "|(95,[3,7,9,17,18,...|  0.0|[19.1068556598487...|[0.95534278299243...|       0.0|\n",
      "|(95,[3,7,9,17,18,...|  0.0|[19.1068556598487...|[0.95534278299243...|       0.0|\n",
      "|(95,[3,7,9,17,18,...|  0.0|[19.0516374686367...|[0.95258187343183...|       0.0|\n",
      "|(95,[3,7,9,17,18,...|  0.0|[19.0620191596105...|[0.95310095798052...|       0.0|\n",
      "|(95,[3,7,12,17,18...|  0.0|[19.1068556598487...|[0.95534278299243...|       0.0|\n",
      "|(95,[3,7,12,17,18...|  0.0|[19.0964739688749...|[0.95482369844374...|       0.0|\n",
      "+--------------------+-----+--------------------+--------------------+----------+\n",
      "only showing top 10 rows\n",
      "\n"
     ]
    }
   ],
   "source": [
    "df_predicted.show(10)"
   ]
  },
  {
   "cell_type": "code",
   "execution_count": 27,
   "metadata": {
    "collapsed": false
   },
   "outputs": [
    {
     "name": "stdout",
     "output_type": "stream",
     "text": [
      "0.990282901728\n",
      "+----------+-----+\n",
      "|prediction|count|\n",
      "+----------+-----+\n",
      "|       0.0|  853|\n",
      "|       1.0|  794|\n",
      "+----------+-----+\n",
      "\n"
     ]
    }
   ],
   "source": [
    "evaluator = MulticlassClassificationEvaluator()\n",
    "print evaluator.evaluate(df_predicted)\n",
    "df_predicted.select('prediction').groupby('prediction').count().show()"
   ]
  },
  {
   "cell_type": "code",
   "execution_count": null,
   "metadata": {
    "collapsed": true
   },
   "outputs": [],
   "source": []
  },
  {
   "cell_type": "code",
   "execution_count": 46,
   "metadata": {
    "collapsed": true
   },
   "outputs": [],
   "source": [
    "import pandas as pd\n",
    "import numpy as np"
   ]
  },
  {
   "cell_type": "code",
   "execution_count": 69,
   "metadata": {
    "collapsed": true
   },
   "outputs": [],
   "source": [
    "df = pd.read_csv('mushrooms.csv')"
   ]
  },
  {
   "cell_type": "code",
   "execution_count": 70,
   "metadata": {
    "collapsed": false
   },
   "outputs": [],
   "source": [
    "label = df['class']"
   ]
  },
  {
   "cell_type": "code",
   "execution_count": 73,
   "metadata": {
    "collapsed": false
   },
   "outputs": [],
   "source": [
    "label = [1 if x == 'p' else 0 for x in label]"
   ]
  },
  {
   "cell_type": "code",
   "execution_count": 75,
   "metadata": {
    "collapsed": false
   },
   "outputs": [],
   "source": [
    "df = df_sp.toPandas()"
   ]
  },
  {
   "cell_type": "code",
   "execution_count": 76,
   "metadata": {
    "collapsed": false
   },
   "outputs": [
    {
     "data": {
      "text/html": [
       "<div>\n",
       "<table border=\"1\" class=\"dataframe\">\n",
       "  <thead>\n",
       "    <tr style=\"text-align: right;\">\n",
       "      <th></th>\n",
       "      <th>class</th>\n",
       "      <th>cap-shape</th>\n",
       "      <th>cap-surface</th>\n",
       "      <th>cap-color</th>\n",
       "      <th>bruises</th>\n",
       "      <th>odor</th>\n",
       "      <th>gill-attachment</th>\n",
       "      <th>gill-spacing</th>\n",
       "      <th>gill-size</th>\n",
       "      <th>gill-color</th>\n",
       "      <th>...</th>\n",
       "      <th>feature_ring-number</th>\n",
       "      <th>indexed_ring-type</th>\n",
       "      <th>feature_ring-type</th>\n",
       "      <th>indexed_spore-print-color</th>\n",
       "      <th>feature_spore-print-color</th>\n",
       "      <th>indexed_population</th>\n",
       "      <th>feature_population</th>\n",
       "      <th>indexed_habitat</th>\n",
       "      <th>feature_habitat</th>\n",
       "      <th>features</th>\n",
       "    </tr>\n",
       "  </thead>\n",
       "  <tbody>\n",
       "    <tr>\n",
       "      <th>0</th>\n",
       "      <td>p</td>\n",
       "      <td>x</td>\n",
       "      <td>s</td>\n",
       "      <td>n</td>\n",
       "      <td>t</td>\n",
       "      <td>p</td>\n",
       "      <td>f</td>\n",
       "      <td>c</td>\n",
       "      <td>n</td>\n",
       "      <td>k</td>\n",
       "      <td>...</td>\n",
       "      <td>(1.0, 0.0)</td>\n",
       "      <td>0.0</td>\n",
       "      <td>(1.0, 0.0, 0.0, 0.0)</td>\n",
       "      <td>2.0</td>\n",
       "      <td>(0.0, 0.0, 1.0, 0.0, 0.0, 0.0, 0.0, 0.0)</td>\n",
       "      <td>2.0</td>\n",
       "      <td>(0.0, 0.0, 1.0, 0.0, 0.0)</td>\n",
       "      <td>4.0</td>\n",
       "      <td>(0.0, 0.0, 0.0, 0.0, 1.0, 0.0)</td>\n",
       "      <td>(1.0, 0.0, 0.0, 0.0, 0.0, 0.0, 1.0, 0.0, 1.0, ...</td>\n",
       "    </tr>\n",
       "    <tr>\n",
       "      <th>1</th>\n",
       "      <td>e</td>\n",
       "      <td>x</td>\n",
       "      <td>s</td>\n",
       "      <td>y</td>\n",
       "      <td>t</td>\n",
       "      <td>a</td>\n",
       "      <td>f</td>\n",
       "      <td>c</td>\n",
       "      <td>b</td>\n",
       "      <td>k</td>\n",
       "      <td>...</td>\n",
       "      <td>(1.0, 0.0)</td>\n",
       "      <td>0.0</td>\n",
       "      <td>(1.0, 0.0, 0.0, 0.0)</td>\n",
       "      <td>1.0</td>\n",
       "      <td>(0.0, 1.0, 0.0, 0.0, 0.0, 0.0, 0.0, 0.0)</td>\n",
       "      <td>3.0</td>\n",
       "      <td>(0.0, 0.0, 0.0, 1.0, 0.0)</td>\n",
       "      <td>1.0</td>\n",
       "      <td>(0.0, 1.0, 0.0, 0.0, 0.0, 0.0)</td>\n",
       "      <td>(1.0, 0.0, 0.0, 0.0, 0.0, 0.0, 1.0, 0.0, 0.0, ...</td>\n",
       "    </tr>\n",
       "    <tr>\n",
       "      <th>2</th>\n",
       "      <td>e</td>\n",
       "      <td>b</td>\n",
       "      <td>s</td>\n",
       "      <td>w</td>\n",
       "      <td>t</td>\n",
       "      <td>l</td>\n",
       "      <td>f</td>\n",
       "      <td>c</td>\n",
       "      <td>b</td>\n",
       "      <td>n</td>\n",
       "      <td>...</td>\n",
       "      <td>(1.0, 0.0)</td>\n",
       "      <td>0.0</td>\n",
       "      <td>(1.0, 0.0, 0.0, 0.0)</td>\n",
       "      <td>1.0</td>\n",
       "      <td>(0.0, 1.0, 0.0, 0.0, 0.0, 0.0, 0.0, 0.0)</td>\n",
       "      <td>3.0</td>\n",
       "      <td>(0.0, 0.0, 0.0, 1.0, 0.0)</td>\n",
       "      <td>5.0</td>\n",
       "      <td>(0.0, 0.0, 0.0, 0.0, 0.0, 1.0)</td>\n",
       "      <td>(0.0, 0.0, 0.0, 1.0, 0.0, 0.0, 1.0, 0.0, 0.0, ...</td>\n",
       "    </tr>\n",
       "    <tr>\n",
       "      <th>3</th>\n",
       "      <td>p</td>\n",
       "      <td>x</td>\n",
       "      <td>y</td>\n",
       "      <td>w</td>\n",
       "      <td>t</td>\n",
       "      <td>p</td>\n",
       "      <td>f</td>\n",
       "      <td>c</td>\n",
       "      <td>n</td>\n",
       "      <td>n</td>\n",
       "      <td>...</td>\n",
       "      <td>(1.0, 0.0)</td>\n",
       "      <td>0.0</td>\n",
       "      <td>(1.0, 0.0, 0.0, 0.0)</td>\n",
       "      <td>2.0</td>\n",
       "      <td>(0.0, 0.0, 1.0, 0.0, 0.0, 0.0, 0.0, 0.0)</td>\n",
       "      <td>2.0</td>\n",
       "      <td>(0.0, 0.0, 1.0, 0.0, 0.0)</td>\n",
       "      <td>4.0</td>\n",
       "      <td>(0.0, 0.0, 0.0, 0.0, 1.0, 0.0)</td>\n",
       "      <td>(1.0, 0.0, 0.0, 0.0, 0.0, 1.0, 0.0, 0.0, 0.0, ...</td>\n",
       "    </tr>\n",
       "    <tr>\n",
       "      <th>4</th>\n",
       "      <td>e</td>\n",
       "      <td>x</td>\n",
       "      <td>s</td>\n",
       "      <td>g</td>\n",
       "      <td>f</td>\n",
       "      <td>n</td>\n",
       "      <td>f</td>\n",
       "      <td>w</td>\n",
       "      <td>b</td>\n",
       "      <td>k</td>\n",
       "      <td>...</td>\n",
       "      <td>(1.0, 0.0)</td>\n",
       "      <td>1.0</td>\n",
       "      <td>(0.0, 1.0, 0.0, 0.0)</td>\n",
       "      <td>1.0</td>\n",
       "      <td>(0.0, 1.0, 0.0, 0.0, 0.0, 0.0, 0.0, 0.0)</td>\n",
       "      <td>4.0</td>\n",
       "      <td>(0.0, 0.0, 0.0, 0.0, 1.0)</td>\n",
       "      <td>1.0</td>\n",
       "      <td>(0.0, 1.0, 0.0, 0.0, 0.0, 0.0)</td>\n",
       "      <td>(1.0, 0.0, 0.0, 0.0, 0.0, 0.0, 1.0, 0.0, 0.0, ...</td>\n",
       "    </tr>\n",
       "  </tbody>\n",
       "</table>\n",
       "<p>5 rows × 67 columns</p>\n",
       "</div>"
      ],
      "text/plain": [
       "  class cap-shape cap-surface cap-color bruises odor gill-attachment  \\\n",
       "0     p         x           s         n       t    p               f   \n",
       "1     e         x           s         y       t    a               f   \n",
       "2     e         b           s         w       t    l               f   \n",
       "3     p         x           y         w       t    p               f   \n",
       "4     e         x           s         g       f    n               f   \n",
       "\n",
       "  gill-spacing gill-size gill-color  \\\n",
       "0            c         n          k   \n",
       "1            c         b          k   \n",
       "2            c         b          n   \n",
       "3            c         n          n   \n",
       "4            w         b          k   \n",
       "\n",
       "                         ...                         feature_ring-number  \\\n",
       "0                        ...                                  (1.0, 0.0)   \n",
       "1                        ...                                  (1.0, 0.0)   \n",
       "2                        ...                                  (1.0, 0.0)   \n",
       "3                        ...                                  (1.0, 0.0)   \n",
       "4                        ...                                  (1.0, 0.0)   \n",
       "\n",
       "  indexed_ring-type     feature_ring-type indexed_spore-print-color  \\\n",
       "0               0.0  (1.0, 0.0, 0.0, 0.0)                       2.0   \n",
       "1               0.0  (1.0, 0.0, 0.0, 0.0)                       1.0   \n",
       "2               0.0  (1.0, 0.0, 0.0, 0.0)                       1.0   \n",
       "3               0.0  (1.0, 0.0, 0.0, 0.0)                       2.0   \n",
       "4               1.0  (0.0, 1.0, 0.0, 0.0)                       1.0   \n",
       "\n",
       "                  feature_spore-print-color indexed_population  \\\n",
       "0  (0.0, 0.0, 1.0, 0.0, 0.0, 0.0, 0.0, 0.0)                2.0   \n",
       "1  (0.0, 1.0, 0.0, 0.0, 0.0, 0.0, 0.0, 0.0)                3.0   \n",
       "2  (0.0, 1.0, 0.0, 0.0, 0.0, 0.0, 0.0, 0.0)                3.0   \n",
       "3  (0.0, 0.0, 1.0, 0.0, 0.0, 0.0, 0.0, 0.0)                2.0   \n",
       "4  (0.0, 1.0, 0.0, 0.0, 0.0, 0.0, 0.0, 0.0)                4.0   \n",
       "\n",
       "          feature_population indexed_habitat                 feature_habitat  \\\n",
       "0  (0.0, 0.0, 1.0, 0.0, 0.0)             4.0  (0.0, 0.0, 0.0, 0.0, 1.0, 0.0)   \n",
       "1  (0.0, 0.0, 0.0, 1.0, 0.0)             1.0  (0.0, 1.0, 0.0, 0.0, 0.0, 0.0)   \n",
       "2  (0.0, 0.0, 0.0, 1.0, 0.0)             5.0  (0.0, 0.0, 0.0, 0.0, 0.0, 1.0)   \n",
       "3  (0.0, 0.0, 1.0, 0.0, 0.0)             4.0  (0.0, 0.0, 0.0, 0.0, 1.0, 0.0)   \n",
       "4  (0.0, 0.0, 0.0, 0.0, 1.0)             1.0  (0.0, 1.0, 0.0, 0.0, 0.0, 0.0)   \n",
       "\n",
       "                                            features  \n",
       "0  (1.0, 0.0, 0.0, 0.0, 0.0, 0.0, 1.0, 0.0, 1.0, ...  \n",
       "1  (1.0, 0.0, 0.0, 0.0, 0.0, 0.0, 1.0, 0.0, 0.0, ...  \n",
       "2  (0.0, 0.0, 0.0, 1.0, 0.0, 0.0, 1.0, 0.0, 0.0, ...  \n",
       "3  (1.0, 0.0, 0.0, 0.0, 0.0, 1.0, 0.0, 0.0, 0.0, ...  \n",
       "4  (1.0, 0.0, 0.0, 0.0, 0.0, 0.0, 1.0, 0.0, 0.0, ...  \n",
       "\n",
       "[5 rows x 67 columns]"
      ]
     },
     "execution_count": 76,
     "metadata": {},
     "output_type": "execute_result"
    }
   ],
   "source": [
    "df.head()"
   ]
  },
  {
   "cell_type": "code",
   "execution_count": 77,
   "metadata": {
    "collapsed": true
   },
   "outputs": [],
   "source": [
    "df = df[lst_features]"
   ]
  },
  {
   "cell_type": "code",
   "execution_count": 78,
   "metadata": {
    "collapsed": false
   },
   "outputs": [],
   "source": [
    "df['label'] = label"
   ]
  },
  {
   "cell_type": "code",
   "execution_count": 83,
   "metadata": {
    "collapsed": true
   },
   "outputs": [],
   "source": [
    "X = df[lst_features]\n",
    "Y = df['label']"
   ]
  },
  {
   "cell_type": "code",
   "execution_count": 63,
   "metadata": {
    "collapsed": true
   },
   "outputs": [],
   "source": [
    "from sklearn.ensemble import RandomForestClassifier"
   ]
  },
  {
   "cell_type": "code",
   "execution_count": 64,
   "metadata": {
    "collapsed": true
   },
   "outputs": [],
   "source": [
    "clf = RandomForestClassifier(max_depth= 5)"
   ]
  },
  {
   "cell_type": "code",
   "execution_count": 79,
   "metadata": {
    "collapsed": true
   },
   "outputs": [],
   "source": [
    "from sklearn.model_selection import KFold"
   ]
  },
  {
   "cell_type": "code",
   "execution_count": 80,
   "metadata": {
    "collapsed": true
   },
   "outputs": [],
   "source": [
    "kf = KFold(n_splits=5)"
   ]
  },
  {
   "cell_type": "code",
   "execution_count": null,
   "metadata": {
    "collapsed": true
   },
   "outputs": [],
   "source": []
  }
 ],
 "metadata": {
  "anaconda-cloud": {},
  "kernelspec": {
   "display_name": "Python [default]",
   "language": "python",
   "name": "python2"
  },
  "language_info": {
   "codemirror_mode": {
    "name": "ipython",
    "version": 2
   },
   "file_extension": ".py",
   "mimetype": "text/x-python",
   "name": "python",
   "nbconvert_exporter": "python",
   "pygments_lexer": "ipython2",
   "version": "2.7.12"
  }
 },
 "nbformat": 4,
 "nbformat_minor": 1
}
